{
 "cells": [
  {
   "cell_type": "markdown",
   "metadata": {},
   "source": [
    "# Fellowship.AI's challenge: One-shot Learning"
   ]
  },
  {
   "cell_type": "markdown",
   "metadata": {},
   "source": [
    "The proposed solution is based on the __[Prototypical Networks for Few-shot Learning](http://www.cs.toronto.edu/~jsnell/assets/prototypical_networks_nips_2017.pdf)__ paper."
   ]
  },
  {
   "cell_type": "markdown",
   "metadata": {},
   "source": [
    "## Imports"
   ]
  },
  {
   "cell_type": "code",
   "execution_count": 1,
   "metadata": {},
   "outputs": [],
   "source": [
    "%reload_ext autoreload\n",
    "%autoreload 2\n",
    "%matplotlib inline"
   ]
  },
  {
   "cell_type": "code",
   "execution_count": 2,
   "metadata": {},
   "outputs": [],
   "source": [
    "from pathlib import Path\n",
    "from random import sample, randint\n",
    "from PIL import Image\n",
    "import torch\n",
    "import torch.optim as optim\n",
    "from sklearn.manifold import TSNE\n",
    "\n",
    "from omniglot import OmniglotDataset\n",
    "from data import FewShotData\n",
    "from model import PrototypicalNetwork\n",
    "from learner import FewShotLearner\n",
    "import plot"
   ]
  },
  {
   "cell_type": "markdown",
   "metadata": {},
   "source": [
    "## 1. Data"
   ]
  },
  {
   "cell_type": "code",
   "execution_count": 3,
   "metadata": {},
   "outputs": [],
   "source": [
    "PATH = Path('/home/jose/datasets/omniglot/')\n",
    "trn_path = PATH/'train'\n",
    "test_path = PATH/'test'\n",
    "val_path = PATH/'val'\n",
    "\n",
    "if (PATH/'images_background').exists(): \n",
    "    (PATH/'images_background').rename(trn_path)\n",
    "    \n",
    "if (PATH/'images_evaluation').exists():  \n",
    "    (PATH/'images_evaluation').rename(test_path)"
   ]
  },
  {
   "cell_type": "markdown",
   "metadata": {},
   "source": [
    "### Exploratory analysis"
   ]
  },
  {
   "cell_type": "markdown",
   "metadata": {},
   "source": [
    "Datasets size:"
   ]
  },
  {
   "cell_type": "code",
   "execution_count": 4,
   "metadata": {},
   "outputs": [
    {
     "name": "stdout",
     "output_type": "stream",
     "text": [
      "Alphabets (training/test): 30/10\n",
      "Classes (training/test): 964/346\n",
      "Images (training/test): 19280/6920\n"
     ]
    }
   ],
   "source": [
    "trn_alphabets = list(trn_path.iterdir())\n",
    "test_alphabets = list(test_path.iterdir())\n",
    "print(f\"Alphabets (training/test): {len(trn_alphabets)}/{len(test_alphabets)}\")\n",
    "\n",
    "trn_classes = list(trn_path.glob('*/*'))\n",
    "test_classes = list(test_path.glob('*/*'))\n",
    "print(f\"Classes (training/test): {len(trn_classes)}/{len(test_classes)}\")\n",
    "\n",
    "trn_images = list(trn_path.glob('*/*/*'))\n",
    "test_images = list(test_path.glob('*/*/*'))\n",
    "print(f\"Images (training/test): {len(trn_images)}/{len(test_images)}\")"
   ]
  },
  {
   "cell_type": "markdown",
   "metadata": {},
   "source": [
    "Visualize some random images:"
   ]
  },
  {
   "cell_type": "code",
   "execution_count": 12,
   "metadata": {},
   "outputs": [
    {
     "data": {
      "image/png": "[encoded data removed]",
      "text/plain": [
       "<Figure size 1152x432 with 5 Axes>"
      ]
     },
     "metadata": {},
     "output_type": "display_data"
    }
   ],
   "source": [
    "samples = sample(trn_images, 5)\n",
    "plot.plot_images(samples, [x.parents[1].name + '/' + x.parent.name for x in samples])"
   ]
  },
  {
   "cell_type": "markdown",
   "metadata": {},
   "source": [
    "Visualize some of the different instances of the same class:"
   ]
  },
  {
   "cell_type": "code",
   "execution_count": 13,
   "metadata": {},
   "outputs": [
    {
     "data": {
      "image/png": "[encoded data removed]",
      "text/plain": [
       "<Figure size 1152x432 with 5 Axes>"
      ]
     },
     "metadata": {},
     "output_type": "display_data"
    }
   ],
   "source": [
    "sample_cls = samples[0].parent\n",
    "samples = sample(list(sample_cls.iterdir()), 5)\n",
    "plot.plot_images(samples)"
   ]
  },
  {
   "cell_type": "markdown",
   "metadata": {},
   "source": [
    "Images size:"
   ]
  },
  {
   "cell_type": "code",
   "execution_count": 14,
   "metadata": {},
   "outputs": [
    {
     "name": "stdout",
     "output_type": "stream",
     "text": [
      "Images size: (105, 105)\n"
     ]
    }
   ],
   "source": [
    "print('Images size:', Image.open(samples[0]).size)"
   ]
  },
  {
   "cell_type": "markdown",
   "metadata": {},
   "source": [
    "### Data pre-processing"
   ]
  },
  {
   "cell_type": "markdown",
   "metadata": {
    "heading_collapsed": true
   },
   "source": [
    "#### Validation set"
   ]
  },
  {
   "cell_type": "markdown",
   "metadata": {
    "hidden": true
   },
   "source": [
    "Create a validation set by using 50% of the test set."
   ]
  },
  {
   "cell_type": "code",
   "execution_count": null,
   "metadata": {
    "hidden": true
   },
   "outputs": [],
   "source": [
    "val_split = 0.5 # of the test set\n",
    "\n",
    "if not val_path.exists():\n",
    "    val_path.mkdir()\n",
    "    test_len = len(list(test_path.iterdir()))\n",
    "    k = int(test_len * val_split)\n",
    "    for s in sample(test_alphabets, k=k):\n",
    "        s.rename(val_path/s.name)"
   ]
  },
  {
   "cell_type": "markdown",
   "metadata": {},
   "source": [
    "#### Augmentation, resize and vectorization"
   ]
  },
  {
   "cell_type": "markdown",
   "metadata": {},
   "source": [
    "The dataset object makes it easy to handle the data, including load and transformation.\n",
    "In this case, our dataset class performs the following processes:\n",
    "1. As specified in the paper, images from each class is rotated 0, 90, 180 and 270 degrees to create 4 different classes. In this way, the number of samples and the number of classes are incremented 4 times.\n",
    "2. Following the paper as well, images are resized to 28x28.\n",
    "3. Finally, images are transformed to tensors, getting ready to be fitted in a neural net."
   ]
  },
  {
   "cell_type": "code",
   "execution_count": 15,
   "metadata": {},
   "outputs": [],
   "source": [
    "trn_ds = OmniglotDataset(trn_path)\n",
    "val_ds = OmniglotDataset(val_path)\n",
    "test_ds = OmniglotDataset(test_path)"
   ]
  },
  {
   "cell_type": "markdown",
   "metadata": {},
   "source": [
    "The dataset now it is 4 time bigger:"
   ]
  },
  {
   "cell_type": "code",
   "execution_count": 16,
   "metadata": {},
   "outputs": [
    {
     "name": "stdout",
     "output_type": "stream",
     "text": [
      "Classes (train/val/test): 3856/1252/1384\n",
      "Images (train/val/test): 77120/25040/27680\n"
     ]
    }
   ],
   "source": [
    "trn_cls = torch.unique(trn_ds.labels)\n",
    "val_cls = torch.unique(val_ds.labels)\n",
    "test_cls = torch.unique(test_ds.labels)\n",
    "print(f\"Classes (train/val/test): {len(trn_cls)}/{len(val_cls)}/{len(test_cls)}\")\n",
    "print(f\"Images (train/val/test): {len(trn_ds)}/{len(val_ds)}/{len(test_ds)}\")"
   ]
  },
  {
   "cell_type": "markdown",
   "metadata": {},
   "source": [
    "Visualize how one class, has now become 4 different classes. "
   ]
  },
  {
   "cell_type": "code",
   "execution_count": 17,
   "metadata": {},
   "outputs": [
    {
     "data": {
      "image/png": "[encoded data removed]",
      "text/plain": [
       "<Figure size 1152x216 with 4 Axes>"
      ]
     },
     "metadata": {},
     "output_type": "display_data"
    }
   ],
   "source": [
    "idx = randint(0, len(trn_ds) // 4 - 1) * 4\n",
    "samples = trn_ds[idx:idx+4]\n",
    "X, y = samples\n",
    "plot.plot_tensor(samples[0], [f'Rotation: {i % 4 * 90} (Class: {y})' for i, y in enumerate(y)])"
   ]
  },
  {
   "cell_type": "markdown",
   "metadata": {},
   "source": [
    "The tensors look as follows: "
   ]
  },
  {
   "cell_type": "code",
   "execution_count": 18,
   "metadata": {},
   "outputs": [
    {
     "name": "stdout",
     "output_type": "stream",
     "text": [
      "Features tensor (imagess): torch.Size([77120, 1, 28, 28])\n",
      "Labels tensor torch.Size([77120])\n"
     ]
    }
   ],
   "source": [
    "X, y = trn_ds[:]\n",
    "print('Features tensor (imagess):', X.size())\n",
    "print('Labels tensor', y.size())"
   ]
  },
  {
   "cell_type": "markdown",
   "metadata": {},
   "source": [
    "#### Sampling"
   ]
  },
  {
   "cell_type": "markdown",
   "metadata": {},
   "source": [
    "Few-shot learning, including one-shot, makes use of **episodes** for both training and evaluation. An episode is a batch of data that includes Ns support and Nq query samples for each of Nc random classes. The parameters Ns and Nc are particularly important, since they represent the number of \"shots\" used for learning and the number of \"ways\" or different classes, respectively.\n",
    "\n",
    "The FewShotData class packs Datasets and DataLoaders for training, validation and test. Each DataLoader provides an iterator that yields episodes for Few-shot Learning."
   ]
  },
  {
   "cell_type": "code",
   "execution_count": 19,
   "metadata": {},
   "outputs": [],
   "source": [
    "data = FewShotData(trn_ds, val_ds, test_ds,\n",
    "                 trn_classes_n=60,  # 60-ways (training)\n",
    "                 trn_support_n=1,   # 1-shot (training)\n",
    "                 trn_query_n=5,\n",
    "                 eval_classes_n=20, # 20-ways (eval)\n",
    "                 eval_support_n=1,  # 1-show (eval)\n",
    "                 eval_query_n=15,\n",
    "                 episodes_n=100)"
   ]
  },
  {
   "cell_type": "markdown",
   "metadata": {},
   "source": [
    "Visualizing some samples from a training episode:"
   ]
  },
  {
   "cell_type": "code",
   "execution_count": 20,
   "metadata": {},
   "outputs": [
    {
     "name": "stdout",
     "output_type": "stream",
     "text": [
      "=== Class: 0 ===\n",
      "\n",
      "Support samples\n"
     ]
    },
    {
     "data": {
      "image/png": "[encoded data removed]",
      "text/plain": [
       "<Figure size 1152x216 with 1 Axes>"
      ]
     },
     "metadata": {},
     "output_type": "display_data"
    },
    {
     "name": "stdout",
     "output_type": "stream",
     "text": [
      "Query samples\n"
     ]
    },
    {
     "data": {
      "image/png": "[encoded data removed]",
      "text/plain": [
       "<Figure size 1152x432 with 5 Axes>"
      ]
     },
     "metadata": {},
     "output_type": "display_data"
    },
    {
     "name": "stdout",
     "output_type": "stream",
     "text": [
      "=== Class: 1 ===\n",
      "\n",
      "Support samples\n"
     ]
    },
    {
     "data": {
      "image/png": "[encoded data removed]",
      "text/plain": [
       "<Figure size 1152x216 with 1 Axes>"
      ]
     },
     "metadata": {},
     "output_type": "display_data"
    },
    {
     "name": "stdout",
     "output_type": "stream",
     "text": [
      "Query samples\n"
     ]
    },
    {
     "data": {
      "image/png": "[encoded data removed]",
      "text/plain": [
       "<Figure size 1152x432 with 5 Axes>"
      ]
     },
     "metadata": {},
     "output_type": "display_data"
    },
    {
     "name": "stdout",
     "output_type": "stream",
     "text": [
      "=== Class: 2 ===\n",
      "\n",
      "Support samples\n"
     ]
    },
    {
     "data": {
      "image/png": "[encoded data removed]",
      "text/plain": [
       "<Figure size 1152x216 with 1 Axes>"
      ]
     },
     "metadata": {},
     "output_type": "display_data"
    },
    {
     "name": "stdout",
     "output_type": "stream",
     "text": [
      "Query samples\n"
     ]
    },
    {
     "data": {
      "image/png": "[encoded data removed]",
      "text/plain": [
       "<Figure size 1152x432 with 5 Axes>"
      ]
     },
     "metadata": {},
     "output_type": "display_data"
    }
   ],
   "source": [
    "trn_episode = next(iter(data.trn_dl))\n",
    "plot.plot_episode(*trn_episode, 3)"
   ]
  },
  {
   "cell_type": "markdown",
   "metadata": {},
   "source": [
    "## 2. Model"
   ]
  },
  {
   "cell_type": "markdown",
   "metadata": {},
   "source": [
    "After analyzing different models to tackle the one-shot challenge, I chose Prototypical Networks, since it is a very intuitive, but powerful model that has recently achieved state-of-the-art results.\n",
    "\n",
    "So, let's create a Prototypical Network model."
   ]
  },
  {
   "cell_type": "code",
   "execution_count": 36,
   "metadata": {},
   "outputs": [],
   "source": [
    "model = PrototypicalNetwork()"
   ]
  },
  {
   "cell_type": "markdown",
   "metadata": {},
   "source": [
    "Create a FewShotLearner, which provides handy methods for Few-shot models."
   ]
  },
  {
   "cell_type": "code",
   "execution_count": 37,
   "metadata": {},
   "outputs": [],
   "source": [
    "learner = FewShotLearner(model, data)"
   ]
  },
  {
   "cell_type": "markdown",
   "metadata": {},
   "source": [
    "Train the model on 100 epoch (of 100 episodes each)."
   ]
  },
  {
   "cell_type": "code",
   "execution_count": 38,
   "metadata": {},
   "outputs": [
    {
     "data": {
      "application/vnd.jupyter.widget-view+json": {
       "model_id": "2e57ccce0492432cb147f56f4d1e71fd",
       "version_major": 2,
       "version_minor": 0
      },
      "text/plain": [
       "HBox(children=(IntProgress(value=0), HTML(value='')))"
      ]
     },
     "metadata": {},
     "output_type": "display_data"
    },
    {
     "name": "stdout",
     "output_type": "stream",
     "text": [
      "Epoch trn_loss  trn_acc val_loss  val_acc\n",
      "   1: 1.471124 0.606600 0.570891 0.829467 (Best)\n",
      "   2: 0.680706 0.798867 0.438640 0.871967 (Best)\n",
      "   3: 0.525663 0.839600 0.428156 0.883600 (Best)\n",
      "   4: 0.433224 0.868467 0.348829 0.898967 (Best)\n",
      "   5: 0.371747 0.886467 0.301458 0.912967 (Best)\n",
      "   6: 0.341663 0.896100 0.295607 0.918133 (Best)\n",
      "   7: 0.329138 0.900033 0.271397 0.923800 (Best)\n",
      "   8: 0.289695 0.910200 0.280228 0.922433 \n",
      "   9: 0.273544 0.915933 0.294219 0.922067 \n",
      "  10: 0.265860 0.916633 0.251985 0.928467 (Best)\n",
      "  11: 0.237748 0.925567 0.271432 0.923667 \n",
      "  12: 0.233114 0.927567 0.287699 0.925133 \n",
      "  13: 0.256017 0.920600 0.247906 0.927067 \n",
      "  14: 0.231440 0.928133 0.242590 0.937200 (Best)\n",
      "  15: 0.206163 0.934400 0.290826 0.924800 \n",
      "  16: 0.218224 0.929533 0.258414 0.932767 \n",
      "  17: 0.205067 0.936567 0.244000 0.933267 \n",
      "  18: 0.210032 0.933867 0.292914 0.930633 \n",
      "  19: 0.198862 0.938667 0.227026 0.936500 \n",
      "  20: 0.197920 0.937500 0.212618 0.941300 (Best)\n",
      "  21: 0.197268 0.937767 0.225835 0.941200 \n",
      "  22: 0.185549 0.940700 0.211225 0.942933 (Best)\n",
      "  23: 0.172641 0.944867 0.216807 0.941533 \n",
      "  24: 0.160759 0.947433 0.237235 0.937900 \n",
      "  25: 0.169610 0.945533 0.236099 0.938900 \n",
      "  26: 0.159639 0.946800 0.208746 0.941467 \n",
      "  27: 0.152470 0.950833 0.227732 0.940833 \n",
      "  28: 0.146595 0.952233 0.227432 0.942067 \n",
      "  29: 0.157751 0.948633 0.232811 0.939900 \n",
      "  30: 0.163739 0.946833 0.219134 0.939300 \n",
      "  31: 0.153146 0.949733 0.205486 0.942733 \n",
      "  32: 0.149029 0.950467 0.260900 0.939333 \n",
      "  33: 0.146852 0.951933 0.245946 0.936500 \n",
      "  34: 0.153469 0.949300 0.237383 0.938733 \n",
      "  35: 0.143313 0.951300 0.216830 0.941867 \n",
      "  36: 0.138878 0.953600 0.208072 0.942467 \n",
      "  37: 0.143089 0.952200 0.239327 0.941767 \n",
      "  38: 0.146823 0.950700 0.216358 0.943067 (Best)\n",
      "  39: 0.141652 0.953233 0.211130 0.946600 (Best)\n",
      "  40: 0.143373 0.951833 0.232772 0.938667 \n",
      "  41: 0.130920 0.954700 0.239428 0.937967 \n",
      "  42: 0.140893 0.953000 0.233631 0.940100 \n",
      "  43: 0.130913 0.956433 0.219563 0.944533 \n",
      "  44: 0.130007 0.955700 0.211574 0.946033 \n",
      "  45: 0.125549 0.958200 0.236247 0.942367 \n",
      "  46: 0.120272 0.958800 0.216595 0.940633 \n",
      "  47: 0.120578 0.959433 0.233187 0.940567 \n",
      "  48: 0.127804 0.957500 0.206961 0.945800 \n",
      "  49: 0.118469 0.960833 0.189294 0.948667 (Best)\n",
      "  50: 0.122740 0.958867 0.210738 0.947300 \n",
      "  51: 0.122014 0.958400 0.224994 0.943233 \n",
      "  52: 0.116844 0.961367 0.222873 0.941267 \n",
      "  53: 0.122783 0.957767 0.222249 0.944400 \n",
      "  54: 0.126775 0.956500 0.209578 0.947133 \n",
      "  55: 0.114469 0.961933 0.199937 0.949733 (Best)\n",
      "  56: 0.125687 0.958133 0.217652 0.944900 \n",
      "  57: 0.115123 0.960133 0.239453 0.939300 \n",
      "  58: 0.120136 0.958800 0.215094 0.946300 \n",
      "  59: 0.119735 0.959467 0.193523 0.947433 \n",
      "  60: 0.118846 0.959033 0.231464 0.943267 \n",
      "  61: 0.109691 0.962733 0.244539 0.941133 \n",
      "  62: 0.112948 0.960400 0.213234 0.944667 \n",
      "  63: 0.106724 0.963200 0.244834 0.941133 \n",
      "  64: 0.102952 0.965667 0.218884 0.945100 \n",
      "  65: 0.107848 0.962267 0.192047 0.948833 \n",
      "  66: 0.100458 0.965800 0.213907 0.945367 \n",
      "  67: 0.112010 0.961567 0.223859 0.939367 \n",
      "  68: 0.104090 0.963567 0.212083 0.946967 \n",
      "  69: 0.107585 0.962667 0.194834 0.948567 \n",
      "  70: 0.113921 0.961033 0.207358 0.946667 \n",
      "  71: 0.108336 0.963500 0.199867 0.947000 \n",
      "  72: 0.108943 0.962333 0.203646 0.945867 \n",
      "  73: 0.100848 0.964967 0.201851 0.949167 \n",
      "  74: 0.108613 0.962867 0.205370 0.946267 \n",
      "  75: 0.111392 0.961633 0.218766 0.945367 \n",
      "  76: 0.098874 0.965833 0.247332 0.940133 \n",
      "  77: 0.104938 0.963700 0.215391 0.944933 \n",
      "  78: 0.100846 0.964400 0.233738 0.945067 \n",
      "  79: 0.102171 0.963933 0.235093 0.942733 \n",
      "  80: 0.107283 0.963033 0.228652 0.942667 \n",
      "  81: 0.104291 0.963533 0.228725 0.943867 \n",
      "  82: 0.096668 0.967267 0.204524 0.947067 \n",
      "  83: 0.100052 0.964067 0.219427 0.945633 \n",
      "  84: 0.101509 0.965167 0.219453 0.944200 \n",
      "  85: 0.100294 0.965067 0.244722 0.942233 \n",
      "  86: 0.101838 0.963800 0.217254 0.947500 \n",
      "  87: 0.110241 0.961767 0.233517 0.943000 \n",
      "  88: 0.093301 0.966900 0.241186 0.943933 \n",
      "  89: 0.096448 0.966000 0.224010 0.943267 \n",
      "  90: 0.105010 0.963167 0.208002 0.947400 \n",
      "  91: 0.107895 0.961533 0.215736 0.947000 \n",
      "  92: 0.096116 0.965533 0.208992 0.946800 \n",
      "  93: 0.092808 0.967500 0.206821 0.947200 \n",
      "  94: 0.092722 0.967433 0.220312 0.945500 \n",
      "  95: 0.095109 0.966367 0.237450 0.942533 \n",
      "  96: 0.099256 0.965767 0.226674 0.941933 \n",
      "  97: 0.093253 0.966367 0.213666 0.947067 \n",
      "  98: 0.097911 0.966533 0.222019 0.947600 \n",
      "  99: 0.103529 0.962567 0.212170 0.948600 \n",
      " 100: 0.089293 0.968100 0.194253 0.948100 \n"
     ]
    }
   ],
   "source": [
    "learner.fit(100)"
   ]
  },
  {
   "cell_type": "markdown",
   "metadata": {},
   "source": [
    "## 3. Results"
   ]
  },
  {
   "cell_type": "markdown",
   "metadata": {},
   "source": [
    "### Metrics"
   ]
  },
  {
   "cell_type": "markdown",
   "metadata": {},
   "source": [
    "Compute average accuracy for 10 epochs from the test set."
   ]
  },
  {
   "cell_type": "code",
   "execution_count": 39,
   "metadata": {},
   "outputs": [
    {
     "name": "stdout",
     "output_type": "stream",
     "text": [
      "Accuracy on test set: 0.950223\n"
     ]
    }
   ],
   "source": [
    "_, acc = learner.evaluate(10, test=True)\n",
    "print(f'Accuracy on test set: {acc:.6f}')"
   ]
  },
  {
   "cell_type": "markdown",
   "metadata": {},
   "source": [
    "Note 1: The Prototypical Network for Few-shot Learning paper reports an accuracy of 96.0% for 20-ways 1-shot classification. However, they used 4800 classes for training, while I only used the 3856 classes provided in the training set.\n",
    "\n",
    "Note 2: I considered that the model performs \"good enought\" to demostrate how to solve the few-shot learning challenge. I focused on following the Prototypical Network for Few-shot Learning as much as possible and I did not put much efforts on fine-tunning to achieve the maximum possible accuracy. Some actions that would have lead to improve accuracy include: more sophisticate embedding functions, regularization techniques, larger images, etc."
   ]
  },
  {
   "cell_type": "markdown",
   "metadata": {},
   "source": [
    "### Visualize predictions"
   ]
  },
  {
   "cell_type": "markdown",
   "metadata": {},
   "source": [
    "Yield a test episode."
   ]
  },
  {
   "cell_type": "code",
   "execution_count": 40,
   "metadata": {},
   "outputs": [],
   "source": [
    "test_episode = next(iter(data.test_dl))\n",
    "(s_X, s_y), (q_X, q_y) = test_episode"
   ]
  },
  {
   "cell_type": "markdown",
   "metadata": {},
   "source": [
    "Make predictions using the trained model."
   ]
  },
  {
   "cell_type": "code",
   "execution_count": 41,
   "metadata": {},
   "outputs": [],
   "source": [
    "model = model.cpu()\n",
    "log_probs = model(s_X, s_y, q_X)\n",
    "probs = torch.exp(log_probs)"
   ]
  },
  {
   "cell_type": "markdown",
   "metadata": {},
   "source": [
    "Visualize high-confidence correctly-classified samples."
   ]
  },
  {
   "cell_type": "code",
   "execution_count": 42,
   "metadata": {},
   "outputs": [
    {
     "data": {
      "image/png": "[encoded data removed]",
      "text/plain": [
       "<Figure size 1152x216 with 2 Axes>"
      ]
     },
     "metadata": {},
     "output_type": "display_data"
    },
    {
     "data": {
      "image/png": "[encoded data removed]",
      "text/plain": [
       "<Figure size 1152x216 with 2 Axes>"
      ]
     },
     "metadata": {},
     "output_type": "display_data"
    },
    {
     "data": {
      "image/png": "[encoded data removed]",
      "text/plain": [
       "<Figure size 1152x216 with 2 Axes>"
      ]
     },
     "metadata": {},
     "output_type": "display_data"
    }
   ],
   "source": [
    "plot.plot_predictions(*test_episode, probs, correct=True, descending=True)"
   ]
  },
  {
   "cell_type": "markdown",
   "metadata": {},
   "source": [
    "Visualize low-confidence correctly-classified samples."
   ]
  },
  {
   "cell_type": "code",
   "execution_count": 43,
   "metadata": {},
   "outputs": [
    {
     "data": {
      "image/png": "[encoded data removed]",
      "text/plain": [
       "<Figure size 1152x216 with 2 Axes>"
      ]
     },
     "metadata": {},
     "output_type": "display_data"
    },
    {
     "data": {
      "image/png": "[encoded data removed]",
      "text/plain": [
       "<Figure size 1152x216 with 2 Axes>"
      ]
     },
     "metadata": {},
     "output_type": "display_data"
    },
    {
     "data": {
      "image/png": "[encoded data removed]",
      "text/plain": [
       "<Figure size 1152x216 with 2 Axes>"
      ]
     },
     "metadata": {},
     "output_type": "display_data"
    }
   ],
   "source": [
    "plot.plot_predictions(*test_episode, probs, correct=True, descending=False)"
   ]
  },
  {
   "cell_type": "markdown",
   "metadata": {},
   "source": [
    "Visualize low-confidence misclassified samples."
   ]
  },
  {
   "cell_type": "code",
   "execution_count": 44,
   "metadata": {},
   "outputs": [
    {
     "data": {
      "image/png": "[encoded data removed]",
      "text/plain": [
       "<Figure size 1152x216 with 3 Axes>"
      ]
     },
     "metadata": {},
     "output_type": "display_data"
    },
    {
     "data": {
      "image/png": "[encoded data removed]",
      "text/plain": [
       "<Figure size 1152x216 with 3 Axes>"
      ]
     },
     "metadata": {},
     "output_type": "display_data"
    },
    {
     "data": {
      "image/png": "[encoded data removed]",
      "text/plain": [
       "<Figure size 1152x216 with 3 Axes>"
      ]
     },
     "metadata": {},
     "output_type": "display_data"
    }
   ],
   "source": [
    "plot.plot_predictions(*test_episode, probs, correct=False, descending=False)"
   ]
  },
  {
   "cell_type": "markdown",
   "metadata": {},
   "source": [
    "Visualize high-confidence misclassified samples."
   ]
  },
  {
   "cell_type": "code",
   "execution_count": 45,
   "metadata": {},
   "outputs": [
    {
     "data": {
      "image/png": "[encoded data removed]",
      "text/plain": [
       "<Figure size 1152x216 with 3 Axes>"
      ]
     },
     "metadata": {},
     "output_type": "display_data"
    },
    {
     "data": {
      "image/png": "[encoded data removed]",
      "text/plain": [
       "<Figure size 1152x216 with 3 Axes>"
      ]
     },
     "metadata": {},
     "output_type": "display_data"
    },
    {
     "data": {
      "image/png": "[encoded data removed]",
      "text/plain": [
       "<Figure size 1152x216 with 3 Axes>"
      ]
     },
     "metadata": {},
     "output_type": "display_data"
    }
   ],
   "source": [
    "plot.plot_predictions(*test_episode, probs, correct=False, descending=True)"
   ]
  },
  {
   "cell_type": "markdown",
   "metadata": {},
   "source": [
    "### t-SNE"
   ]
  },
  {
   "cell_type": "markdown",
   "metadata": {},
   "source": [
    "t-Distributed Stochastic Neighbor Embedding (t-SNE) is a technique for dimensionality reduction that is particularly well suited for the visualization of high-dimensional datasets.\n",
    "\n",
    "Use the model's embedding function to compute embeddings."
   ]
  },
  {
   "cell_type": "code",
   "execution_count": 46,
   "metadata": {},
   "outputs": [
    {
     "data": {
      "text/plain": [
       "torch.Size([300, 64])"
      ]
     },
     "execution_count": 46,
     "metadata": {},
     "output_type": "execute_result"
    }
   ],
   "source": [
    "q_embs = model.emb_fn(q_X)\n",
    "q_embs = q_embs.detach()\n",
    "q_embs.size()"
   ]
  },
  {
   "cell_type": "markdown",
   "metadata": {},
   "source": [
    "Compute t-SNE of the embedding vectors."
   ]
  },
  {
   "cell_type": "code",
   "execution_count": 47,
   "metadata": {},
   "outputs": [],
   "source": [
    "tsne = TSNE()\n",
    "q_tsne = tsne.fit_transform(q_embs)"
   ]
  },
  {
   "cell_type": "markdown",
   "metadata": {},
   "source": [
    "Plotting t_SNE we can see how samples of the same classes tends to cluster together."
   ]
  },
  {
   "cell_type": "code",
   "execution_count": 51,
   "metadata": {},
   "outputs": [
    {
     "data": {
      "image/png": "[encoded data removed]",
      "text/plain": [
       "<Figure size 576x576 with 1 Axes>"
      ]
     },
     "metadata": {},
     "output_type": "display_data"
    }
   ],
   "source": [
    "plot.plot_tsne(q_X, q_tsne)"
   ]
  },
  {
   "cell_type": "markdown",
   "metadata": {},
   "source": [
    "## End"
   ]
  }
 ],
 "metadata": {
  "kernelspec": {
   "display_name": "Python 3",
   "language": "python",
   "name": "python3"
  },
  "language_info": {
   "codemirror_mode": {
    "name": "ipython",
    "version": 3
   },
   "file_extension": ".py",
   "mimetype": "text/x-python",
   "name": "python",
   "nbconvert_exporter": "python",
   "pygments_lexer": "ipython3",
   "version": "3.6.5"
  }
 },
 "nbformat": 4,
 "nbformat_minor": 2
}
